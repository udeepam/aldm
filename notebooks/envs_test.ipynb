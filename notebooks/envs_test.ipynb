{
 "cells": [
  {
   "cell_type": "code",
   "execution_count": 1,
   "metadata": {},
   "outputs": [],
   "source": [
    "import gym\n",
    "from gym.spaces.box import Box\n",
    "import torch\n",
    "import numpy as np\n",
    "import random\n",
    "\n",
    "from baselines import bench\n",
    "from baselines.common.vec_env.dummy_vec_env import DummyVecEnv\n",
    "from baselines.common.vec_env.shmem_vec_env import ShmemVecEnv\n",
    "from baselines.common.vec_env.subproc_vec_env import SubprocVecEnv\n",
    "\n",
    "from baselines.common.vec_env import VecEnvWrapper, VecExtractDictObs, VecMonitor, VecNormalize"
   ]
  },
  {
   "cell_type": "code",
   "execution_count": 2,
   "metadata": {},
   "outputs": [],
   "source": [
    "seed=0\n",
    "random.seed(seed)\n",
    "torch.manual_seed(seed)\n",
    "np.random.seed(seed)"
   ]
  },
  {
   "cell_type": "code",
   "execution_count": 3,
   "metadata": {},
   "outputs": [],
   "source": [
    "class VecTransposeImage(VecEnvWrapper):\n",
    "    \"\"\"\n",
    "    Based on: https://github.com/DLR-RM/stable-baselines3\n",
    "    Re-order channels, from (H,W,C) to (C,H,W).\n",
    "    It is required for PyTorch convolution layers.\n",
    "    \"\"\"\n",
    "\n",
    "    def __init__(self, venv):\n",
    "        height, width, channels = venv.observation_space.shape\n",
    "        observation_space = Box(low=0, \n",
    "                                high=255,\n",
    "                                shape=(channels, height, width),\n",
    "                                dtype=venv.observation_space.dtype)\n",
    "        super(VecTransposeImage, self).__init__(venv, observation_space=observation_space)\n",
    "\n",
    "    @staticmethod\n",
    "    def transpose_image(image):\n",
    "        \"\"\"\n",
    "        Transpose an image or batch of images (re-order channels).\n",
    "        :param image: (np.ndarray)\n",
    "        :return: (np.ndarray)\n",
    "        \"\"\"\n",
    "        if len(image.shape) == 3:\n",
    "            return np.transpose(image, (2, 0, 1))\n",
    "        return np.transpose(image, (0, 3, 1, 2))\n",
    "\n",
    "    def step_wait(self):\n",
    "        observations, rewards, dones, infos = self.venv.step_wait()\n",
    "        return self.transpose_image(observations), rewards, dones, infos\n",
    "\n",
    "    def reset(self):\n",
    "        \"\"\"\n",
    "        Reset all environments\n",
    "        \"\"\"\n",
    "        return self.transpose_image(self.venv.reset())\n",
    "\n",
    "    def close(self):\n",
    "        self.venv.close()       "
   ]
  },
  {
   "cell_type": "code",
   "execution_count": 4,
   "metadata": {},
   "outputs": [],
   "source": [
    "class VecPyTorch(VecEnvWrapper):\n",
    "    def __init__(self, venv, device):\n",
    "        \"\"\"\n",
    "        Taken from: https://github.com/harry-uglow/Curriculum-Reinforcement-Learning\n",
    "\n",
    "        Converts array of observations to Tensors. This makes them\n",
    "        usable as input to a PyTorch policy network.     \n",
    "        \"\"\"\n",
    "        super(VecPyTorch, self).__init__(venv)\n",
    "        self.device = device\n",
    "\n",
    "    def reset(self):\n",
    "        \"\"\"\n",
    "        Convert numpy.array observations into torch.tensor for policy network.\n",
    "        \"\"\"\n",
    "        obs = self.venv.reset()\n",
    "        # convert obs to torch tensor\n",
    "        obs = torch.from_numpy(obs).float().to(self.device)\n",
    "        return obs\n",
    "\n",
    "    def step_async(self, actions):\n",
    "        \"\"\"\n",
    "        Convert torch.tensor actions into numpy.array for envs.\n",
    "        \"\"\"\n",
    "        if isinstance(actions, torch.LongTensor) or len(actions.shape) > 1:\n",
    "            # Squeeze the dimension for discrete actions\n",
    "            actions = actions.squeeze(1)        \n",
    "        actions = actions.cpu().numpy()\n",
    "        self.venv.step_async(actions)\n",
    "\n",
    "    def step_wait(self):\n",
    "        \"\"\"\n",
    "        Convert numpy.array observations into torch.tensor for policy network.\n",
    "        Convert numpy.array rewards into torch.tensor for policy network.\n",
    "        \"\"\"      \n",
    "        obs, reward, done, info = self.venv.step_wait()\n",
    "        # convert obs to torch tensor\n",
    "        obs = torch.from_numpy(obs).float().to(self.device)\n",
    "        # convert reward to torch tensor\n",
    "        reward = torch.from_numpy(reward).unsqueeze(dim=1).float()\n",
    "        return obs, reward, done, info    "
   ]
  },
  {
   "cell_type": "code",
   "execution_count": 7,
   "metadata": {},
   "outputs": [],
   "source": [
    "def make_env(env_id, rank):  \n",
    "\n",
    "    def _thunk():\n",
    "\n",
    "        if env_id.startswith('procgen'):\n",
    "            env = gym.make(env_id, \n",
    "                           start_level=0, \n",
    "                           num_levels=100, \n",
    "                           distribution_mode='easy')\n",
    "        else: \n",
    "            raise NotImplementedError   \n",
    "        \n",
    "        return env\n",
    "    return _thunk\n",
    "\n",
    "def make_vec_envs(env_name, num_processes):\n",
    "    envs = [make_env(env_id=env_name, rank=i) for i in range(num_processes)]\n",
    "    \n",
    "    if len(envs) > 1:\n",
    "        envs = SubprocVecEnv(envs)\n",
    "    else:\n",
    "        envs = DummyVecEnv(envs)   \n",
    "\n",
    "    # re-order channels, (H,W,C) => (C,H,W). \n",
    "    # required for PyTorch convolution layers.\n",
    "    envs = VecTransposeImage(envs)    \n",
    "    \n",
    "    envs = VecMonitor(venv=envs, \n",
    "                      filename=None,\n",
    "                      keep_buf=100)    \n",
    "        \n",
    "    # normalise the rewards during training but not during testing\n",
    "    # we don't normalise the obs as the network does this /255.\n",
    "    envs = VecNormalize(envs, ob=False)            \n",
    "\n",
    "    # wrapper to convert observation arrays to torch.tensors\n",
    "    envs = VecPyTorch(envs, device)        \n",
    "\n",
    "    return envs"
   ]
  },
  {
   "cell_type": "code",
   "execution_count": 8,
   "metadata": {
    "scrolled": false
   },
   "outputs": [],
   "source": [
    "device = torch.device(\"cuda:0\" if torch.cuda.is_available() else \"cpu\")\n",
    "\n",
    "env_name = \"procgen:procgen-coinrun-v0\"\n",
    "num_processes = 2\n",
    "\n",
    "envs = make_vec_envs(env_name,num_processes)"
   ]
  },
  {
   "cell_type": "code",
   "execution_count": 9,
   "metadata": {},
   "outputs": [],
   "source": [
    "frame = envs.reset()"
   ]
  },
  {
   "cell_type": "code",
   "execution_count": 10,
   "metadata": {},
   "outputs": [
    {
     "data": {
      "text/plain": [
       "torch.Size([2, 3, 64, 64])"
      ]
     },
     "execution_count": 10,
     "metadata": {},
     "output_type": "execute_result"
    }
   ],
   "source": [
    "frame.shape"
   ]
  },
  {
   "cell_type": "code",
   "execution_count": 12,
   "metadata": {},
   "outputs": [
    {
     "data": {
      "text/plain": [
       "tensor(-76908., device='cuda:0')"
      ]
     },
     "execution_count": 12,
     "metadata": {},
     "output_type": "execute_result"
    }
   ],
   "source": [
    "torch.sum(frame[0]-frame[1])"
   ]
  },
  {
   "cell_type": "code",
   "execution_count": null,
   "metadata": {},
   "outputs": [],
   "source": []
  }
 ],
 "metadata": {
  "kernelspec": {
   "display_name": "Python 3",
   "language": "python",
   "name": "python3"
  },
  "language_info": {
   "codemirror_mode": {
    "name": "ipython",
    "version": 3
   },
   "file_extension": ".py",
   "mimetype": "text/x-python",
   "name": "python",
   "nbconvert_exporter": "python",
   "pygments_lexer": "ipython3",
   "version": "3.7.4"
  }
 },
 "nbformat": 4,
 "nbformat_minor": 4
}
