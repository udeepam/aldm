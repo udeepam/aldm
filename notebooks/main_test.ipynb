{
 "cells": [
  {
   "cell_type": "code",
   "execution_count": 1,
   "metadata": {},
   "outputs": [
    {
     "name": "stdout",
     "output_type": "stream",
     "text": [
      "/Users/udeepa/Documents/UCL/Master's Project/prototype_4yp\n"
     ]
    }
   ],
   "source": [
    "%cd .."
   ]
  },
  {
   "cell_type": "code",
   "execution_count": 2,
   "metadata": {
    "scrolled": false
   },
   "outputs": [
    {
     "name": "stdout",
     "output_type": "stream",
     "text": [
      "Seeding random, torch, numpy.\n",
      "Note that due to parallel processing results will be similar but not identical. Use only one process and set --deterministic_execution to True if you want identical results. (Not recommended; will slow code down and might not be possible with A2C). \n",
      "Training beginning\n",
      "Number of updates:  1\n",
      "Iter:  0\n"
     ]
    }
   ],
   "source": [
    "import main \n",
    "import sys\n",
    "\n",
    "sys.argv = ['pass',\n",
    "            '--exp_label', 'coinrun_ppo',\n",
    "            '--log', 'false',\n",
    "            '--num_frames', '2048', \n",
    "            '--num_processes', '8',\n",
    "            '--eval_interval', '1',\n",
    "            '--group_name', 'dummy_run',\n",
    "            '--recurrent_policy', 'true']\n",
    "main.main()"
   ]
  },
  {
   "cell_type": "code",
   "execution_count": null,
   "metadata": {},
   "outputs": [],
   "source": []
  }
 ],
 "metadata": {
  "kernelspec": {
   "display_name": "Python 3",
   "language": "python",
   "name": "python3"
  },
  "language_info": {
   "codemirror_mode": {
    "name": "ipython",
    "version": 3
   },
   "file_extension": ".py",
   "mimetype": "text/x-python",
   "name": "python",
   "nbconvert_exporter": "python",
   "pygments_lexer": "ipython3",
   "version": "3.6.8"
  }
 },
 "nbformat": 4,
 "nbformat_minor": 2
}
