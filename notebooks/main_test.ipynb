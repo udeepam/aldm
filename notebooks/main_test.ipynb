{
 "cells": [
  {
   "cell_type": "code",
   "execution_count": 1,
   "metadata": {},
   "outputs": [
    {
     "name": "stdout",
     "output_type": "stream",
     "text": [
      "/Users/udeepa/Documents/UCL/Master's Project/prototype_4yp\n"
     ]
    }
   ],
   "source": [
    "%cd .."
   ]
  },
  {
   "cell_type": "code",
   "execution_count": 2,
   "metadata": {
    "scrolled": false
   },
   "outputs": [
    {
     "name": "stdout",
     "output_type": "stream",
     "text": [
      "Seeding random, torch, numpy.\n",
      "Note that due to parallel processing results will be similar but not identical. Use only one process and set --deterministic_execution to True if you want identical results. (Not recommended; will slow code down and might not be possible with A2C). \n",
      "Training beginning\n",
      "Number of updates:  2\n",
      "Iter:  0\n",
      "Iter:  1\n"
     ]
    }
   ],
   "source": [
    "import main \n",
    "import sys\n",
    "\n",
    "sys.argv = ['pass',\n",
    "            '--exp_label', 'maze_ppo',\n",
    "            '--train_start_level', '0',\n",
    "            '--train_num_levels', '200',\n",
    "            '--test_num_levels', '200',            \n",
    "            '--seed', '0',\n",
    "            '--test', 'false',\n",
    "            '--eval_interval', '1',\n",
    "            '--log', 'false',\n",
    "            '--num_frames', '2048', \n",
    "            '--num_processes', '4',\n",
    "            '--proj_name', 'prototype_ucl_msc_proj',\n",
    "            '--group_name', 'dummy_run']\n",
    "main.main()"
   ]
  },
  {
   "cell_type": "code",
   "execution_count": null,
   "metadata": {},
   "outputs": [],
   "source": []
  }
 ],
 "metadata": {
  "kernelspec": {
   "display_name": "Python [conda env:ucl_msc_proj]",
   "language": "python",
   "name": "conda-env-ucl_msc_proj-py"
  },
  "language_info": {
   "codemirror_mode": {
    "name": "ipython",
    "version": 3
   },
   "file_extension": ".py",
   "mimetype": "text/x-python",
   "name": "python",
   "nbconvert_exporter": "python",
   "pygments_lexer": "ipython3",
   "version": "3.6.8"
  }
 },
 "nbformat": 4,
 "nbformat_minor": 2
}
