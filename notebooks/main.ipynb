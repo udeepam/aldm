{
 "cells": [
  {
   "cell_type": "code",
   "execution_count": 1,
   "metadata": {},
   "outputs": [
    {
     "name": "stdout",
     "output_type": "stream",
     "text": [
      "/home/umeepega/summer_proj/prototype_4yp\n"
     ]
    }
   ],
   "source": [
    "%cd .."
   ]
  },
  {
   "cell_type": "code",
   "execution_count": 2,
   "metadata": {},
   "outputs": [],
   "source": [
    "%load_ext line_profiler"
   ]
  },
  {
   "cell_type": "code",
   "execution_count": 3,
   "metadata": {
    "scrolled": true
   },
   "outputs": [
    {
     "data": {
      "text/html": [
       "\n",
       "                Logging results to <a href=\"https://wandb.com\" target=\"_blank\">Weights & Biases</a> <a href=\"https://docs.wandb.com/integrations/jupyter.html\" target=\"_blank\">(Documentation)</a>.<br/>\n",
       "                Project page: <a href=\"https://app.wandb.ai/udeepam/prototype_ucl_msc_proj\" target=\"_blank\">https://app.wandb.ai/udeepam/prototype_ucl_msc_proj</a><br/>\n",
       "                Run page: <a href=\"https://app.wandb.ai/udeepam/prototype_ucl_msc_proj/runs/14zpvlm3\" target=\"_blank\">https://app.wandb.ai/udeepam/prototype_ucl_msc_proj/runs/14zpvlm3</a><br/>\n",
       "            "
      ],
      "text/plain": [
       "<IPython.core.display.HTML object>"
      ]
     },
     "metadata": {},
     "output_type": "display_data"
    },
    {
     "name": "stderr",
     "output_type": "stream",
     "text": [
      "Failed to query for notebook name, you can set it manually with the WANDB_NOTEBOOK_NAME environment variable\n"
     ]
    },
    {
     "name": "stdout",
     "output_type": "stream",
     "text": [
      "Seeding random, torch, numpy.\n",
      "Training beginning\n",
      "Number of updates:  1\n",
      "Iter:  0\n",
      "Analysing latent representation\n",
      "3869455360\n"
     ]
    }
   ],
   "source": [
    "from main import main\n",
    "from learner import Learner\n",
    "from algorithms.ppo import PPO\n",
    "from algorithms.storage import RolloutStorage\n",
    "from models.policy import ACModel\n",
    "from utils.evaluation import evaluate\n",
    "\n",
    "import sys\n",
    "\n",
    "sys.argv = ['pass',\n",
    "            '--env_name', 'procgen:procgen-coinrun-v0',\n",
    "            '--model', 'ibac_sni',\n",
    "            \n",
    "            '--train_start_level', '0',\n",
    "            '--train_num_levels', '2',\n",
    "            \n",
    "            '--log_interval', '10',            \n",
    "            '--test', 'false',            \n",
    "            '--test_num_levels', '1', \n",
    "            \n",
    "#             '--use_distribution_matching', 'true',\n",
    "#             '--percentage_levels_train', '0.8',\n",
    "#             '--num_val_envs', '10',\n",
    "#             '--num_components', '1',\n",
    "                  \n",
    "            '--num_frames', '16384', \n",
    "            '--num_processes', '64',\n",
    "            '--seed', '0',         \n",
    "            \n",
    "            '--proj_name', 'prototype_ucl_msc_proj',\n",
    "            '--group_name', 'dummy_run']\n",
    "\n",
    "# %lprun -f Learner.train main()\n",
    "main()"
   ]
  },
  {
   "cell_type": "code",
   "execution_count": null,
   "metadata": {},
   "outputs": [],
   "source": []
  },
  {
   "cell_type": "code",
   "execution_count": null,
   "metadata": {},
   "outputs": [],
   "source": []
  }
 ],
 "metadata": {
  "kernelspec": {
   "display_name": "Python 3",
   "language": "python",
   "name": "python3"
  },
  "language_info": {
   "codemirror_mode": {
    "name": "ipython",
    "version": 3
   },
   "file_extension": ".py",
   "mimetype": "text/x-python",
   "name": "python",
   "nbconvert_exporter": "python",
   "pygments_lexer": "ipython3",
   "version": "3.7.4"
  }
 },
 "nbformat": 4,
 "nbformat_minor": 2
}
