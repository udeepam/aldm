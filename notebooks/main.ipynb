{
 "cells": [
  {
   "cell_type": "code",
   "execution_count": 1,
   "metadata": {},
   "outputs": [
    {
     "name": "stdout",
     "output_type": "stream",
     "text": [
      "/home/umeepega/summer_proj/prototype_4yp\n"
     ]
    }
   ],
   "source": [
    "%cd .."
   ]
  },
  {
   "cell_type": "code",
   "execution_count": 2,
   "metadata": {},
   "outputs": [],
   "source": [
    "%load_ext line_profiler"
   ]
  },
  {
   "cell_type": "code",
   "execution_count": null,
   "metadata": {
    "scrolled": true
   },
   "outputs": [
    {
     "data": {
      "text/html": [
       "\n",
       "                Logging results to <a href=\"https://wandb.com\" target=\"_blank\">Weights & Biases</a> <a href=\"https://docs.wandb.com/integrations/jupyter.html\" target=\"_blank\">(Documentation)</a>.<br/>\n",
       "                Project page: <a href=\"https://app.wandb.ai/udeepam/prototype_ucl_msc_proj\" target=\"_blank\">https://app.wandb.ai/udeepam/prototype_ucl_msc_proj</a><br/>\n",
       "                Run page: <a href=\"https://app.wandb.ai/udeepam/prototype_ucl_msc_proj/runs/ddpp8tsq\" target=\"_blank\">https://app.wandb.ai/udeepam/prototype_ucl_msc_proj/runs/ddpp8tsq</a><br/>\n",
       "            "
      ],
      "text/plain": [
       "<IPython.core.display.HTML object>"
      ]
     },
     "metadata": {},
     "output_type": "display_data"
    },
    {
     "name": "stderr",
     "output_type": "stream",
     "text": [
      "Failed to query for notebook name, you can set it manually with the WANDB_NOTEBOOK_NAME environment variable\n"
     ]
    },
    {
     "name": "stdout",
     "output_type": "stream",
     "text": [
      "Seeding random, torch, numpy.\n",
      "Training beginning\n",
      "Number of updates:  5\n",
      "Iter:  0\n",
      "tensor(6672.5146, device='cuda:0', grad_fn=<AddBackward0>)\n",
      "tensor(1837.7098, device='cuda:0', grad_fn=<AddBackward0>)\n",
      "tensor(650.3510, device='cuda:0', grad_fn=<AddBackward0>)\n",
      "tensor(362.8835, device='cuda:0', grad_fn=<AddBackward0>)\n",
      "tensor(225.6447, device='cuda:0', grad_fn=<AddBackward0>)\n",
      "tensor(153.5164, device='cuda:0', grad_fn=<AddBackward0>)\n",
      "tensor(74.3390, device='cuda:0', grad_fn=<AddBackward0>)\n",
      "tensor(67.5356, device='cuda:0', grad_fn=<AddBackward0>)\n",
      "tensor(44.6638, device='cuda:0', grad_fn=<AddBackward0>)\n",
      "tensor(61.9840, device='cuda:0', grad_fn=<AddBackward0>)\n",
      "tensor(43.4072, device='cuda:0', grad_fn=<AddBackward0>)\n",
      "tensor(49.7418, device='cuda:0', grad_fn=<AddBackward0>)\n",
      "tensor(73.3858, device='cuda:0', grad_fn=<AddBackward0>)\n",
      "tensor(59.2425, device='cuda:0', grad_fn=<AddBackward0>)\n",
      "tensor(41.2686, device='cuda:0', grad_fn=<AddBackward0>)\n",
      "tensor(25.5158, device='cuda:0', grad_fn=<AddBackward0>)\n",
      "tensor(24.4006, device='cuda:0', grad_fn=<AddBackward0>)\n",
      "tensor(20.2471, device='cuda:0', grad_fn=<AddBackward0>)\n",
      "tensor(24.5210, device='cuda:0', grad_fn=<AddBackward0>)\n",
      "tensor(34.8994, device='cuda:0', grad_fn=<AddBackward0>)\n",
      "tensor(28.2586, device='cuda:0', grad_fn=<AddBackward0>)\n",
      "tensor(20.8146, device='cuda:0', grad_fn=<AddBackward0>)\n",
      "tensor(21.8081, device='cuda:0', grad_fn=<AddBackward0>)\n",
      "tensor(19.5763, device='cuda:0', grad_fn=<AddBackward0>)\n",
      "Iter:  1\n",
      "tensor(25.7054, device='cuda:0', grad_fn=<AddBackward0>)\n",
      "tensor(30.8582, device='cuda:0', grad_fn=<AddBackward0>)\n",
      "tensor(24.9274, device='cuda:0', grad_fn=<AddBackward0>)\n",
      "tensor(14.6055, device='cuda:0', grad_fn=<AddBackward0>)\n",
      "tensor(28.1482, device='cuda:0', grad_fn=<AddBackward0>)\n",
      "tensor(33.0062, device='cuda:0', grad_fn=<AddBackward0>)\n",
      "tensor(27.5251, device='cuda:0', grad_fn=<AddBackward0>)\n",
      "tensor(28.2570, device='cuda:0', grad_fn=<AddBackward0>)\n",
      "tensor(23.9964, device='cuda:0', grad_fn=<AddBackward0>)\n",
      "tensor(32.0855, device='cuda:0', grad_fn=<AddBackward0>)\n",
      "tensor(31.9228, device='cuda:0', grad_fn=<AddBackward0>)\n"
     ]
    }
   ],
   "source": [
    "from main import main\n",
    "from learner import Learner\n",
    "from algorithms.ppo import PPO\n",
    "from algorithms.storage import RolloutStorage\n",
    "from models.policy import ACModel\n",
    "from utils.evaluation import evaluate\n",
    "\n",
    "import sys\n",
    "\n",
    "sys.argv = ['pass',\n",
    "            '--env_name', 'procgen:procgen-coinrun-v0',\n",
    "            '--model', 'dist_match',\n",
    "            \n",
    "            '--train_start_level', '0',\n",
    "            '--train_num_levels', '200',\n",
    "            \n",
    "            '--log_interval', '10',            \n",
    "            '--test', 'false',            \n",
    "            '--test_num_levels', '10', \n",
    "            \n",
    "            '--use_distribution_matching', 'true',\n",
    "            '--dist_matching_loss', 'kld',            \n",
    "            '--dist_matching_num_components', '1',            \n",
    "            '--percentage_levels_train', '0.8',\n",
    "            '--num_val_envs', '10',\n",
    "            \n",
    "#             '--analyse_representation_interval', '1',\n",
    "                  \n",
    "            '--num_frames', '81920', \n",
    "            '--num_processes', '64',\n",
    "            '--seed', '0',         \n",
    "            \n",
    "            '--proj_name', 'prototype_ucl_msc_proj',\n",
    "            '--group_name', 'dummy_run']\n",
    "\n",
    "# %lprun -f Learner.train main()\n",
    "main()"
   ]
  },
  {
   "cell_type": "code",
   "execution_count": null,
   "metadata": {},
   "outputs": [],
   "source": []
  }
 ],
 "metadata": {
  "kernelspec": {
   "display_name": "Python 3",
   "language": "python",
   "name": "python3"
  },
  "language_info": {
   "codemirror_mode": {
    "name": "ipython",
    "version": 3
   },
   "file_extension": ".py",
   "mimetype": "text/x-python",
   "name": "python",
   "nbconvert_exporter": "python",
   "pygments_lexer": "ipython3",
   "version": "3.7.4"
  }
 },
 "nbformat": 4,
 "nbformat_minor": 2
}
